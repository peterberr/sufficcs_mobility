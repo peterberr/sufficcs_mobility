{
 "cells": [
  {
   "cell_type": "code",
   "execution_count": 1,
   "metadata": {},
   "outputs": [],
   "source": [
    "import pandas as pd\n",
    "import geopandas as gpd\n",
    "import numpy as np\n",
    "from pyproj import CRS\n",
    "from citymob import import_csv_w_wkt_to_gdf\n",
    "crs0=3035\n",
    "import pickle"
   ]
  },
  {
   "cell_type": "code",
   "execution_count": 2,
   "metadata": {},
   "outputs": [],
   "source": [
    "cities=pd.Series(['Berlin','Dresden','Düsseldorf','Frankfurt am Main','Kassel','Leipzig','Magdeburg','Potsdam'])"
   ]
  },
  {
   "cell_type": "code",
   "execution_count": 4,
   "metadata": {},
   "outputs": [
    {
     "name": "stderr",
     "output_type": "stream",
     "text": [
      "c:\\Users\\peter\\anaconda3\\envs\\city_mob_test\\lib\\site-packages\\geopandas\\io\\file.py:362: FutureWarning: pandas.Int64Index is deprecated and will be removed from pandas in a future version. Use pandas.Index with the appropriate dtype instead.\n",
      "  pd.Int64Index,\n",
      "c:\\Users\\peter\\anaconda3\\envs\\city_mob_test\\lib\\site-packages\\geopandas\\io\\file.py:362: FutureWarning: pandas.Int64Index is deprecated and will be removed from pandas in a future version. Use pandas.Index with the appropriate dtype instead.\n",
      "  pd.Int64Index,\n",
      "c:\\Users\\peter\\anaconda3\\envs\\city_mob_test\\lib\\site-packages\\geopandas\\io\\file.py:362: FutureWarning: pandas.Int64Index is deprecated and will be removed from pandas in a future version. Use pandas.Index with the appropriate dtype instead.\n",
      "  pd.Int64Index,\n",
      "c:\\Users\\peter\\anaconda3\\envs\\city_mob_test\\lib\\site-packages\\geopandas\\io\\file.py:362: FutureWarning: pandas.Int64Index is deprecated and will be removed from pandas in a future version. Use pandas.Index with the appropriate dtype instead.\n",
      "  pd.Int64Index,\n",
      "c:\\Users\\peter\\anaconda3\\envs\\city_mob_test\\lib\\site-packages\\geopandas\\io\\file.py:362: FutureWarning: pandas.Int64Index is deprecated and will be removed from pandas in a future version. Use pandas.Index with the appropriate dtype instead.\n",
      "  pd.Int64Index,\n",
      "c:\\Users\\peter\\anaconda3\\envs\\city_mob_test\\lib\\site-packages\\geopandas\\io\\file.py:362: FutureWarning: pandas.Int64Index is deprecated and will be removed from pandas in a future version. Use pandas.Index with the appropriate dtype instead.\n",
      "  pd.Int64Index,\n",
      "c:\\Users\\peter\\anaconda3\\envs\\city_mob_test\\lib\\site-packages\\geopandas\\io\\file.py:362: FutureWarning: pandas.Int64Index is deprecated and will be removed from pandas in a future version. Use pandas.Index with the appropriate dtype instead.\n",
      "  pd.Int64Index,\n",
      "c:\\Users\\peter\\anaconda3\\envs\\city_mob_test\\lib\\site-packages\\geopandas\\io\\file.py:362: FutureWarning: pandas.Int64Index is deprecated and will be removed from pandas in a future version. Use pandas.Index with the appropriate dtype instead.\n",
      "  pd.Int64Index,\n"
     ]
    }
   ],
   "source": [
    "for c in cities:\n",
    "    bound=import_csv_w_wkt_to_gdf('../outputs/city_boundaries/'+c+'_basic.csv',crs=3035)\n",
    "    bound.to_file('../source/GTFS/DE_boundaries_gpkg/'+c+'.gpkg',driver='GPKG') "
   ]
  },
  {
   "cell_type": "code",
   "execution_count": 6,
   "metadata": {},
   "outputs": [],
   "source": [
    "cities2=pd.Series(['Clermont','Dijon','Lille','Lyon','Montpellier','Nantes','Nimes','Paris','Toulouse','Madrid','Wien'])"
   ]
  },
  {
   "cell_type": "code",
   "execution_count": 7,
   "metadata": {},
   "outputs": [
    {
     "name": "stdout",
     "output_type": "stream",
     "text": [
      "Clermont  loaded\n",
      "Dijon  loaded\n",
      "Lille  loaded\n",
      "Lyon  loaded\n"
     ]
    },
    {
     "name": "stderr",
     "output_type": "stream",
     "text": [
      "c:\\Users\\peter\\anaconda3\\envs\\city_mob_test\\lib\\site-packages\\geopandas\\io\\file.py:362: FutureWarning: pandas.Int64Index is deprecated and will be removed from pandas in a future version. Use pandas.Index with the appropriate dtype instead.\n",
      "  pd.Int64Index,\n",
      "c:\\Users\\peter\\anaconda3\\envs\\city_mob_test\\lib\\site-packages\\geopandas\\io\\file.py:362: FutureWarning: pandas.Int64Index is deprecated and will be removed from pandas in a future version. Use pandas.Index with the appropriate dtype instead.\n",
      "  pd.Int64Index,\n",
      "c:\\Users\\peter\\anaconda3\\envs\\city_mob_test\\lib\\site-packages\\geopandas\\io\\file.py:362: FutureWarning: pandas.Int64Index is deprecated and will be removed from pandas in a future version. Use pandas.Index with the appropriate dtype instead.\n",
      "  pd.Int64Index,\n",
      "c:\\Users\\peter\\anaconda3\\envs\\city_mob_test\\lib\\site-packages\\geopandas\\io\\file.py:362: FutureWarning: pandas.Int64Index is deprecated and will be removed from pandas in a future version. Use pandas.Index with the appropriate dtype instead.\n",
      "  pd.Int64Index,\n"
     ]
    },
    {
     "name": "stdout",
     "output_type": "stream",
     "text": [
      "Montpellier  loaded\n",
      "Nantes  loaded\n",
      "Nimes  loaded\n"
     ]
    },
    {
     "name": "stderr",
     "output_type": "stream",
     "text": [
      "c:\\Users\\peter\\anaconda3\\envs\\city_mob_test\\lib\\site-packages\\geopandas\\io\\file.py:362: FutureWarning: pandas.Int64Index is deprecated and will be removed from pandas in a future version. Use pandas.Index with the appropriate dtype instead.\n",
      "  pd.Int64Index,\n",
      "c:\\Users\\peter\\anaconda3\\envs\\city_mob_test\\lib\\site-packages\\geopandas\\io\\file.py:362: FutureWarning: pandas.Int64Index is deprecated and will be removed from pandas in a future version. Use pandas.Index with the appropriate dtype instead.\n",
      "  pd.Int64Index,\n",
      "c:\\Users\\peter\\anaconda3\\envs\\city_mob_test\\lib\\site-packages\\geopandas\\io\\file.py:362: FutureWarning: pandas.Int64Index is deprecated and will be removed from pandas in a future version. Use pandas.Index with the appropriate dtype instead.\n",
      "  pd.Int64Index,\n"
     ]
    },
    {
     "name": "stdout",
     "output_type": "stream",
     "text": [
      "Paris  loaded\n",
      "Toulouse  loaded\n"
     ]
    },
    {
     "name": "stderr",
     "output_type": "stream",
     "text": [
      "c:\\Users\\peter\\anaconda3\\envs\\city_mob_test\\lib\\site-packages\\geopandas\\io\\file.py:362: FutureWarning: pandas.Int64Index is deprecated and will be removed from pandas in a future version. Use pandas.Index with the appropriate dtype instead.\n",
      "  pd.Int64Index,\n",
      "c:\\Users\\peter\\anaconda3\\envs\\city_mob_test\\lib\\site-packages\\geopandas\\io\\file.py:362: FutureWarning: pandas.Int64Index is deprecated and will be removed from pandas in a future version. Use pandas.Index with the appropriate dtype instead.\n",
      "  pd.Int64Index,\n"
     ]
    },
    {
     "name": "stdout",
     "output_type": "stream",
     "text": [
      "Madrid  loaded\n",
      "Wien  loaded\n"
     ]
    },
    {
     "name": "stderr",
     "output_type": "stream",
     "text": [
      "c:\\Users\\peter\\anaconda3\\envs\\city_mob_test\\lib\\site-packages\\geopandas\\io\\file.py:362: FutureWarning: pandas.Int64Index is deprecated and will be removed from pandas in a future version. Use pandas.Index with the appropriate dtype instead.\n",
      "  pd.Int64Index,\n",
      "c:\\Users\\peter\\anaconda3\\envs\\city_mob_test\\lib\\site-packages\\geopandas\\io\\file.py:362: FutureWarning: pandas.Int64Index is deprecated and will be removed from pandas in a future version. Use pandas.Index with the appropriate dtype instead.\n",
      "  pd.Int64Index,\n"
     ]
    }
   ],
   "source": [
    "for c in cities2:\n",
    "    bound=import_csv_w_wkt_to_gdf('../outputs/city_boundaries/'+c+'.csv',crs=3035)\n",
    "    print(c, ' loaded')\n",
    "    bound.to_file('../source/GTFS/boundaries_gpkg/'+c+'.gpkg',driver='GPKG') "
   ]
  },
  {
   "cell_type": "code",
   "execution_count": 20,
   "metadata": {},
   "outputs": [],
   "source": [
    "# cities3=pd.Series(['Berlin','Dresden','Düsseldorf','Frankfurt am Main','Kassel','Leipzig','Magdeburg','Potsdam','Wien'])\n",
    "# for c in cities3:\n",
    "#     den=import_csv_w_wkt_to_gdf('../outputs/density_geounits/' + c + '_pop_density.csv',crs=3035)\n",
    "#     den=den.loc[:,['geocode','geometry']]\n",
    "#     den.to_file('../source/GTFS/postcodes_gpkg/'+c+'_postcodes.gpkg',driver='GPKG') "
   ]
  },
  {
   "cell_type": "code",
   "execution_count": 3,
   "metadata": {},
   "outputs": [],
   "source": [
    "# load the dictionary of city postcodes, and select only postcodes within the selected city\n",
    "city_plz_fp='../dictionaries/city_postcode_DE_basic.pkl'\n",
    "a_file = open(city_plz_fp, \"rb\")\n",
    "city_plz_dict = pickle.load(a_file)\n",
    "# read in German postcotde\n",
    "fp = \"../shapefiles/plz-5stellig.shp/plz-5stellig.shp\"\n",
    "plz = gpd.read_file(fp)\n",
    "plz=plz.to_crs(crs0)"
   ]
  },
  {
   "cell_type": "code",
   "execution_count": 9,
   "metadata": {},
   "outputs": [
    {
     "data": {
      "text/html": [
       "<div>\n",
       "<style scoped>\n",
       "    .dataframe tbody tr th:only-of-type {\n",
       "        vertical-align: middle;\n",
       "    }\n",
       "\n",
       "    .dataframe tbody tr th {\n",
       "        vertical-align: top;\n",
       "    }\n",
       "\n",
       "    .dataframe thead th {\n",
       "        text-align: right;\n",
       "    }\n",
       "</style>\n",
       "<table border=\"1\" class=\"dataframe\">\n",
       "  <thead>\n",
       "    <tr style=\"text-align: right;\">\n",
       "      <th></th>\n",
       "      <th>plz</th>\n",
       "      <th>geometry</th>\n",
       "    </tr>\n",
       "  </thead>\n",
       "  <tbody>\n",
       "    <tr>\n",
       "      <th>4307</th>\n",
       "      <td>01156</td>\n",
       "      <td>POLYGON ((4571875.427 3110510.512, 4571881.459...</td>\n",
       "    </tr>\n",
       "    <tr>\n",
       "      <th>4308</th>\n",
       "      <td>01139</td>\n",
       "      <td>POLYGON ((4577195.244 3115476.589, 4577216.974...</td>\n",
       "    </tr>\n",
       "    <tr>\n",
       "      <th>4309</th>\n",
       "      <td>01097</td>\n",
       "      <td>POLYGON ((4582008.059 3113025.194, 4582062.627...</td>\n",
       "    </tr>\n",
       "    <tr>\n",
       "      <th>4310</th>\n",
       "      <td>01219</td>\n",
       "      <td>POLYGON ((4583682.505 3109136.101, 4583711.930...</td>\n",
       "    </tr>\n",
       "    <tr>\n",
       "      <th>4311</th>\n",
       "      <td>01159</td>\n",
       "      <td>POLYGON ((4578665.314 3109523.364, 4578794.961...</td>\n",
       "    </tr>\n",
       "    <tr>\n",
       "      <th>4312</th>\n",
       "      <td>01307</td>\n",
       "      <td>POLYGON ((4584095.273 3111851.229, 4584117.865...</td>\n",
       "    </tr>\n",
       "    <tr>\n",
       "      <th>4313</th>\n",
       "      <td>01157</td>\n",
       "      <td>POLYGON ((4576464.189 3112116.855, 4576464.014...</td>\n",
       "    </tr>\n",
       "    <tr>\n",
       "      <th>4314</th>\n",
       "      <td>01099</td>\n",
       "      <td>POLYGON ((4583039.442 3115427.542, 4583056.421...</td>\n",
       "    </tr>\n",
       "    <tr>\n",
       "      <th>4315</th>\n",
       "      <td>01237</td>\n",
       "      <td>POLYGON ((4585911.400 3107055.943, 4586030.439...</td>\n",
       "    </tr>\n",
       "    <tr>\n",
       "      <th>4316</th>\n",
       "      <td>01169</td>\n",
       "      <td>POLYGON ((4576668.059 3109569.323, 4576668.100...</td>\n",
       "    </tr>\n",
       "    <tr>\n",
       "      <th>4317</th>\n",
       "      <td>01309</td>\n",
       "      <td>POLYGON ((4585045.961 3110142.587, 4585053.126...</td>\n",
       "    </tr>\n",
       "    <tr>\n",
       "      <th>4318</th>\n",
       "      <td>01257</td>\n",
       "      <td>MULTIPOLYGON (((4586979.266 3103899.027, 45869...</td>\n",
       "    </tr>\n",
       "    <tr>\n",
       "      <th>4319</th>\n",
       "      <td>01109</td>\n",
       "      <td>POLYGON ((4580184.714 3117549.688, 4580217.032...</td>\n",
       "    </tr>\n",
       "    <tr>\n",
       "      <th>4320</th>\n",
       "      <td>01465</td>\n",
       "      <td>MULTIPOLYGON (((4588033.700 3119932.779, 45880...</td>\n",
       "    </tr>\n",
       "    <tr>\n",
       "      <th>4321</th>\n",
       "      <td>01239</td>\n",
       "      <td>POLYGON ((4585066.806 3105630.627, 4585072.906...</td>\n",
       "    </tr>\n",
       "    <tr>\n",
       "      <th>4322</th>\n",
       "      <td>01187</td>\n",
       "      <td>MULTIPOLYGON (((4578125.165 3107786.776, 45781...</td>\n",
       "    </tr>\n",
       "    <tr>\n",
       "      <th>4323</th>\n",
       "      <td>01324</td>\n",
       "      <td>POLYGON ((4588101.813 3112658.703, 4588118.720...</td>\n",
       "    </tr>\n",
       "    <tr>\n",
       "      <th>4324</th>\n",
       "      <td>01259</td>\n",
       "      <td>POLYGON ((4588365.414 3103957.009, 4588499.383...</td>\n",
       "    </tr>\n",
       "    <tr>\n",
       "      <th>4325</th>\n",
       "      <td>01189</td>\n",
       "      <td>POLYGON ((4578814.920 3107144.953, 4578820.321...</td>\n",
       "    </tr>\n",
       "    <tr>\n",
       "      <th>4326</th>\n",
       "      <td>01326</td>\n",
       "      <td>POLYGON ((4587242.623 3112518.243, 4587459.656...</td>\n",
       "    </tr>\n",
       "    <tr>\n",
       "      <th>4327</th>\n",
       "      <td>01277</td>\n",
       "      <td>POLYGON ((4585245.891 3108982.680, 4585462.363...</td>\n",
       "    </tr>\n",
       "    <tr>\n",
       "      <th>4328</th>\n",
       "      <td>01127</td>\n",
       "      <td>MULTIPOLYGON (((4581136.961 3114309.101, 45811...</td>\n",
       "    </tr>\n",
       "    <tr>\n",
       "      <th>4329</th>\n",
       "      <td>01279</td>\n",
       "      <td>POLYGON ((4587760.121 3108752.945, 4587784.327...</td>\n",
       "    </tr>\n",
       "    <tr>\n",
       "      <th>4330</th>\n",
       "      <td>01328</td>\n",
       "      <td>POLYGON ((4590216.624 3109880.231, 4590247.473...</td>\n",
       "    </tr>\n",
       "    <tr>\n",
       "      <th>4331</th>\n",
       "      <td>01129</td>\n",
       "      <td>POLYGON ((4579413.683 3117522.486, 4579422.273...</td>\n",
       "    </tr>\n",
       "    <tr>\n",
       "      <th>4332</th>\n",
       "      <td>01069</td>\n",
       "      <td>MULTIPOLYGON (((4581262.605 3109984.393, 45813...</td>\n",
       "    </tr>\n",
       "    <tr>\n",
       "      <th>4333</th>\n",
       "      <td>01108</td>\n",
       "      <td>POLYGON ((4582727.991 3125099.080, 4582729.596...</td>\n",
       "    </tr>\n",
       "    <tr>\n",
       "      <th>4334</th>\n",
       "      <td>01217</td>\n",
       "      <td>POLYGON ((4581526.425 3106255.047, 4581552.509...</td>\n",
       "    </tr>\n",
       "    <tr>\n",
       "      <th>4335</th>\n",
       "      <td>01067</td>\n",
       "      <td>POLYGON ((4579332.649 3112370.571, 4579364.126...</td>\n",
       "    </tr>\n",
       "  </tbody>\n",
       "</table>\n",
       "</div>"
      ],
      "text/plain": [
       "        plz                                           geometry\n",
       "4307  01156  POLYGON ((4571875.427 3110510.512, 4571881.459...\n",
       "4308  01139  POLYGON ((4577195.244 3115476.589, 4577216.974...\n",
       "4309  01097  POLYGON ((4582008.059 3113025.194, 4582062.627...\n",
       "4310  01219  POLYGON ((4583682.505 3109136.101, 4583711.930...\n",
       "4311  01159  POLYGON ((4578665.314 3109523.364, 4578794.961...\n",
       "4312  01307  POLYGON ((4584095.273 3111851.229, 4584117.865...\n",
       "4313  01157  POLYGON ((4576464.189 3112116.855, 4576464.014...\n",
       "4314  01099  POLYGON ((4583039.442 3115427.542, 4583056.421...\n",
       "4315  01237  POLYGON ((4585911.400 3107055.943, 4586030.439...\n",
       "4316  01169  POLYGON ((4576668.059 3109569.323, 4576668.100...\n",
       "4317  01309  POLYGON ((4585045.961 3110142.587, 4585053.126...\n",
       "4318  01257  MULTIPOLYGON (((4586979.266 3103899.027, 45869...\n",
       "4319  01109  POLYGON ((4580184.714 3117549.688, 4580217.032...\n",
       "4320  01465  MULTIPOLYGON (((4588033.700 3119932.779, 45880...\n",
       "4321  01239  POLYGON ((4585066.806 3105630.627, 4585072.906...\n",
       "4322  01187  MULTIPOLYGON (((4578125.165 3107786.776, 45781...\n",
       "4323  01324  POLYGON ((4588101.813 3112658.703, 4588118.720...\n",
       "4324  01259  POLYGON ((4588365.414 3103957.009, 4588499.383...\n",
       "4325  01189  POLYGON ((4578814.920 3107144.953, 4578820.321...\n",
       "4326  01326  POLYGON ((4587242.623 3112518.243, 4587459.656...\n",
       "4327  01277  POLYGON ((4585245.891 3108982.680, 4585462.363...\n",
       "4328  01127  MULTIPOLYGON (((4581136.961 3114309.101, 45811...\n",
       "4329  01279  POLYGON ((4587760.121 3108752.945, 4587784.327...\n",
       "4330  01328  POLYGON ((4590216.624 3109880.231, 4590247.473...\n",
       "4331  01129  POLYGON ((4579413.683 3117522.486, 4579422.273...\n",
       "4332  01069  MULTIPOLYGON (((4581262.605 3109984.393, 45813...\n",
       "4333  01108  POLYGON ((4582727.991 3125099.080, 4582729.596...\n",
       "4334  01217  POLYGON ((4581526.425 3106255.047, 4581552.509...\n",
       "4335  01067  POLYGON ((4579332.649 3112370.571, 4579364.126..."
      ]
     },
     "execution_count": 9,
     "metadata": {},
     "output_type": "execute_result"
    }
   ],
   "source": [
    "plz.loc[plz['plz'].isin(city_plz_dict['Dresden']),['plz','geometry']]"
   ]
  },
  {
   "cell_type": "code",
   "execution_count": 10,
   "metadata": {},
   "outputs": [
    {
     "name": "stderr",
     "output_type": "stream",
     "text": [
      "c:\\Users\\peter\\anaconda3\\envs\\city_mob_test\\lib\\site-packages\\geopandas\\io\\file.py:362: FutureWarning: pandas.Int64Index is deprecated and will be removed from pandas in a future version. Use pandas.Index with the appropriate dtype instead.\n",
      "  pd.Int64Index,\n",
      "c:\\Users\\peter\\anaconda3\\envs\\city_mob_test\\lib\\site-packages\\geopandas\\io\\file.py:362: FutureWarning: pandas.Int64Index is deprecated and will be removed from pandas in a future version. Use pandas.Index with the appropriate dtype instead.\n",
      "  pd.Int64Index,\n",
      "c:\\Users\\peter\\anaconda3\\envs\\city_mob_test\\lib\\site-packages\\geopandas\\io\\file.py:362: FutureWarning: pandas.Int64Index is deprecated and will be removed from pandas in a future version. Use pandas.Index with the appropriate dtype instead.\n",
      "  pd.Int64Index,\n",
      "c:\\Users\\peter\\anaconda3\\envs\\city_mob_test\\lib\\site-packages\\geopandas\\io\\file.py:362: FutureWarning: pandas.Int64Index is deprecated and will be removed from pandas in a future version. Use pandas.Index with the appropriate dtype instead.\n",
      "  pd.Int64Index,\n",
      "c:\\Users\\peter\\anaconda3\\envs\\city_mob_test\\lib\\site-packages\\geopandas\\io\\file.py:362: FutureWarning: pandas.Int64Index is deprecated and will be removed from pandas in a future version. Use pandas.Index with the appropriate dtype instead.\n",
      "  pd.Int64Index,\n",
      "c:\\Users\\peter\\anaconda3\\envs\\city_mob_test\\lib\\site-packages\\geopandas\\io\\file.py:362: FutureWarning: pandas.Int64Index is deprecated and will be removed from pandas in a future version. Use pandas.Index with the appropriate dtype instead.\n",
      "  pd.Int64Index,\n",
      "c:\\Users\\peter\\anaconda3\\envs\\city_mob_test\\lib\\site-packages\\geopandas\\io\\file.py:362: FutureWarning: pandas.Int64Index is deprecated and will be removed from pandas in a future version. Use pandas.Index with the appropriate dtype instead.\n",
      "  pd.Int64Index,\n",
      "c:\\Users\\peter\\anaconda3\\envs\\city_mob_test\\lib\\site-packages\\geopandas\\io\\file.py:362: FutureWarning: pandas.Int64Index is deprecated and will be removed from pandas in a future version. Use pandas.Index with the appropriate dtype instead.\n",
      "  pd.Int64Index,\n"
     ]
    }
   ],
   "source": [
    "cities3=pd.Series(['Berlin','Dresden','Düsseldorf','Frankfurt am Main','Kassel','Leipzig','Magdeburg','Potsdam'])\n",
    "for c in cities3:\n",
    "    den=plz.loc[plz['plz'].isin(city_plz_dict[c]),['plz','geometry']]\n",
    "    den.rename(columns={'plz':'geocode'},inplace=True)\n",
    "    den.sort_values(by='geocode',inplace=True)\n",
    "    den.to_file('../source/GTFS/postcodes_gpkg_all/'+c+'_postcodes.gpkg',driver='GPKG') "
   ]
  },
  {
   "cell_type": "code",
   "execution_count": 7,
   "metadata": {},
   "outputs": [
    {
     "name": "stderr",
     "output_type": "stream",
     "text": [
      "c:\\Users\\peter\\anaconda3\\envs\\city_mob_test\\lib\\site-packages\\geopandas\\io\\file.py:362: FutureWarning: pandas.Int64Index is deprecated and will be removed from pandas in a future version. Use pandas.Index with the appropriate dtype instead.\n",
      "  pd.Int64Index,\n"
     ]
    }
   ],
   "source": [
    "citiesW=pd.Series(['Wien'])\n",
    "for c in citiesW:\n",
    "    den=import_csv_w_wkt_to_gdf('../outputs/density_geounits/' + c + '_pop_density.csv',crs=3035)\n",
    "    den=den.loc[:,['geocode','geometry']]\n",
    "    den.to_file('../source/GTFS/postcodes_gpkg_all/'+c+'_postcodes.gpkg',driver='GPKG') "
   ]
  },
  {
   "cell_type": "code",
   "execution_count": 7,
   "metadata": {},
   "outputs": [
    {
     "name": "stderr",
     "output_type": "stream",
     "text": [
      "c:\\Users\\peter\\anaconda3\\envs\\city_mob_test\\lib\\site-packages\\geopandas\\io\\file.py:362: FutureWarning: pandas.Int64Index is deprecated and will be removed from pandas in a future version. Use pandas.Index with the appropriate dtype instead.\n",
      "  pd.Int64Index,\n",
      "c:\\Users\\peter\\anaconda3\\envs\\city_mob_test\\lib\\site-packages\\geopandas\\io\\file.py:362: FutureWarning: pandas.Int64Index is deprecated and will be removed from pandas in a future version. Use pandas.Index with the appropriate dtype instead.\n",
      "  pd.Int64Index,\n",
      "c:\\Users\\peter\\anaconda3\\envs\\city_mob_test\\lib\\site-packages\\geopandas\\io\\file.py:362: FutureWarning: pandas.Int64Index is deprecated and will be removed from pandas in a future version. Use pandas.Index with the appropriate dtype instead.\n",
      "  pd.Int64Index,\n",
      "c:\\Users\\peter\\anaconda3\\envs\\city_mob_test\\lib\\site-packages\\geopandas\\io\\file.py:362: FutureWarning: pandas.Int64Index is deprecated and will be removed from pandas in a future version. Use pandas.Index with the appropriate dtype instead.\n",
      "  pd.Int64Index,\n",
      "c:\\Users\\peter\\anaconda3\\envs\\city_mob_test\\lib\\site-packages\\geopandas\\io\\file.py:362: FutureWarning: pandas.Int64Index is deprecated and will be removed from pandas in a future version. Use pandas.Index with the appropriate dtype instead.\n",
      "  pd.Int64Index,\n",
      "c:\\Users\\peter\\anaconda3\\envs\\city_mob_test\\lib\\site-packages\\geopandas\\io\\file.py:362: FutureWarning: pandas.Int64Index is deprecated and will be removed from pandas in a future version. Use pandas.Index with the appropriate dtype instead.\n",
      "  pd.Int64Index,\n",
      "c:\\Users\\peter\\anaconda3\\envs\\city_mob_test\\lib\\site-packages\\geopandas\\io\\file.py:362: FutureWarning: pandas.Int64Index is deprecated and will be removed from pandas in a future version. Use pandas.Index with the appropriate dtype instead.\n",
      "  pd.Int64Index,\n",
      "c:\\Users\\peter\\anaconda3\\envs\\city_mob_test\\lib\\site-packages\\geopandas\\io\\file.py:362: FutureWarning: pandas.Int64Index is deprecated and will be removed from pandas in a future version. Use pandas.Index with the appropriate dtype instead.\n",
      "  pd.Int64Index,\n",
      "c:\\Users\\peter\\anaconda3\\envs\\city_mob_test\\lib\\site-packages\\geopandas\\io\\file.py:362: FutureWarning: pandas.Int64Index is deprecated and will be removed from pandas in a future version. Use pandas.Index with the appropriate dtype instead.\n",
      "  pd.Int64Index,\n"
     ]
    }
   ],
   "source": [
    "cities4=pd.Series(['Clermont','Dijon','Lille','Lyon','Montpellier','Nantes','Nimes','Toulouse','Madrid'])\n",
    "for c in cities4:\n",
    "    den=import_csv_w_wkt_to_gdf('../outputs/density_geounits/' + c + '_pop_density_mixres.csv',crs=3035,gc='geocode')\n",
    "    den=den.loc[:,['geocode','geometry']]\n",
    "    den.to_file('../source/GTFS/postcodes_gpkg/'+c+'_postcodes.gpkg',driver='GPKG') "
   ]
  },
  {
   "cell_type": "code",
   "execution_count": 10,
   "metadata": {},
   "outputs": [
    {
     "name": "stderr",
     "output_type": "stream",
     "text": [
      "c:\\Users\\peter\\anaconda3\\envs\\city_mob_test\\lib\\site-packages\\geopandas\\io\\file.py:362: FutureWarning: pandas.Int64Index is deprecated and will be removed from pandas in a future version. Use pandas.Index with the appropriate dtype instead.\n",
      "  pd.Int64Index,\n"
     ]
    }
   ],
   "source": [
    "c='Paris'\n",
    "den=import_csv_w_wkt_to_gdf('../outputs/density_geounits/' + c + '_pop_density_lowres.csv',crs=3035,gc='geo_unit')\n",
    "den.rename(columns={'geo_unit':'geocode'},inplace=True)\n",
    "den=den.loc[:,['geocode','geometry']]\n",
    "den.to_file('../source/GTFS/postcodes_gpkg/'+c+'_postcodes.gpkg',driver='GPKG') "
   ]
  }
 ],
 "metadata": {
  "kernelspec": {
   "display_name": "city_mob_test",
   "language": "python",
   "name": "python3"
  },
  "language_info": {
   "codemirror_mode": {
    "name": "ipython",
    "version": 3
   },
   "file_extension": ".py",
   "mimetype": "text/x-python",
   "name": "python",
   "nbconvert_exporter": "python",
   "pygments_lexer": "ipython3",
   "version": "3.8.13"
  },
  "orig_nbformat": 4
 },
 "nbformat": 4,
 "nbformat_minor": 2
}
